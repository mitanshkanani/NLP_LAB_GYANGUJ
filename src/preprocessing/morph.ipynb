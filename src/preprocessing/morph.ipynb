{
 "cells": [
  {
   "cell_type": "code",
   "execution_count": null,
   "id": "39e02125",
   "metadata": {},
   "outputs": [],
   "source": [
    "from indicnlp.morph import unsupervised_morph\n",
    "from indicnlp import common\n"
   ]
  },
  {
   "cell_type": "code",
   "execution_count": null,
   "id": "e67b5898",
   "metadata": {},
   "outputs": [],
   "source": []
  },
  {
   "cell_type": "code",
   "execution_count": null,
   "id": "8b975a3c",
   "metadata": {},
   "outputs": [],
   "source": [
    "\n",
    "analyzer = unsupervised_morph.UnsupervisedMorphAnalyzer('gu')\n",
    "\n",
    "\n",
    "# Example with a single word\n",
    "word_to_analyze = \"ખાવાથી\"  # (khāvāthī - by eating)\n",
    "morphemes = analyzer.morph_analyze(word_to_analyze)\n",
    "print(f\"The morphemes of '{word_to_analyze}' are: {morphemes}\")\n",
    "\n",
    "# To process a sentence from your corpus\n",
    "sentence = \"છોકરાઓ શાળાએ જાય છે\" # (chokarāo śāḷā'ē jāya chē - The boys go to school)\n",
    "words = sentence.split()\n",
    "for word in words:\n",
    "    morphemes = analyzer.morph_analyze(word)\n",
    "    print(f\"Word: {word}, Morphemes: {morphemes}\")"
   ]
  }
 ],
 "metadata": {
  "kernelspec": {
   "display_name": "Python 3",
   "language": "python",
   "name": "python3"
  },
  "language_info": {
   "name": "python",
   "version": "3.12.1"
  }
 },
 "nbformat": 4,
 "nbformat_minor": 5
}
